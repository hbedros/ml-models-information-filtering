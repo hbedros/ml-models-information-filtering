{
 "cells": [
  {
   "cell_type": "markdown",
   "metadata": {},
   "source": [
    "# MongoDB Load\n",
    "This notebook helps loading data to Mongodb database. MongoDB is mainly used to load mainly the unstructured for MARR and ELMR books."
   ]
  },
  {
   "cell_type": "code",
   "execution_count": null,
   "metadata": {},
   "outputs": [
    {
     "name": "stdout",
     "output_type": "stream",
     "text": [
      "Inserted PDF with _id: 680fad983bd7eac1cc26a464\n"
     ]
    }
   ],
   "source": [
    "from pymongo import MongoClient\n",
    "import fitz  # PyMuPDF for working with PDFs\n",
    "import os\n",
    "\n",
    "# === MongoDB Connection ===\n",
    "uri = \"REPLACE_WITH_ACTUAL_MONGODB_URI\"\n",
    "mongo_client = MongoClient(uri)\n",
    "\n",
    "# Access the marr_compl_db and marr_collection\n",
    "marr_compl_db = mongo_client[\"marr_compl\"]\n",
    "marr_compl_collection = marr_compl_db[\"marr_compl_book\"]\n",
    "\n",
    "# === Function to Upload PDF to MongoDB ===\n",
    "def upload_pdf_to_mongo(collection, pdf_path):\n",
    "    \"\"\"\n",
    "    Upload a PDF file to a MongoDB collection.\n",
    "\n",
    "    Args:\n",
    "        collection: MongoDB collection object.\n",
    "        pdf_path (str): Path to the PDF file.\n",
    "\n",
    "    Returns:\n",
    "        dict: MongoDB insertion result.\n",
    "    \"\"\"\n",
    "    # Extract the filename from the path\n",
    "    pdf_name = os.path.basename(pdf_path)\n",
    "\n",
    "    # Open the PDF and extract its text\n",
    "    doc = fitz.open(pdf_path)\n",
    "    pdf_text = \"\"\n",
    "    for page in doc:\n",
    "        pdf_text += page.get_text()\n",
    "\n",
    "    # Create a document to insert into MongoDB\n",
    "    document = {\n",
    "        \"filename\": pdf_name,\n",
    "        \"text\": pdf_text,\n",
    "        \"contentType\": \"application/pdf\"\n",
    "    }\n",
    "\n",
    "    # Insert the document into the collection\n",
    "    result = collection.insert_one(document)\n",
    "    return result\n",
    "\n",
    "# === Upload a Local PDF ===\n",
    "pdf_path = \"UPLOAD_PDF\"  # Replace with your actual PDF filename\n",
    "result = upload_pdf_to_mongo(marr_compl_collection, pdf_path)\n",
    "\n",
    "# Print the result of the insertion\n",
    "print(f\"Inserted PDF with _id: {result.inserted_id}\")"
   ]
  }
 ],
 "metadata": {
  "kernelspec": {
   "display_name": "Python (notebook)",
   "language": "python",
   "name": "notebook"
  },
  "language_info": {
   "codemirror_mode": {
    "name": "ipython",
    "version": 3
   },
   "file_extension": ".py",
   "mimetype": "text/x-python",
   "name": "python",
   "nbconvert_exporter": "python",
   "pygments_lexer": "ipython3",
   "version": "3.10.16"
  }
 },
 "nbformat": 4,
 "nbformat_minor": 2
}
